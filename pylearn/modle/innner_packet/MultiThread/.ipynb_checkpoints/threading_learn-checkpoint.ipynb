{
 "cells": [
  {
   "cell_type": "code",
   "execution_count": 1,
   "metadata": {},
   "outputs": [
    {
     "name": "stdout",
     "output_type": "stream",
     "text": [
      " thead name:t.0\n",
      " thead name:t.1\n",
      " thead name:t.2\n",
      " thead name:t.3\n",
      " thead name:t.4\n",
      " thead name:t.5\n",
      " thead name:t.6\n",
      " thead name:t.7\n",
      " thead name:t.8\n",
      " thead name:t.9\n",
      "<function current_thread at 0x7ffa1be36e18><function current_thread at 0x7ffa1be36e18>\n",
      "The num is  0\n",
      "\n",
      "The num is  1\n",
      "<function current_thread at 0x7ffa1be36e18>\n",
      "The num is  2\n",
      "<function current_thread at 0x7ffa1be36e18>\n",
      "The num is  7\n",
      "<function current_thread at 0x7ffa1be36e18>\n",
      "The num is  4\n",
      "<function current_thread at 0x7ffa1be36e18>\n",
      "The num is  9\n",
      "<function current_thread at 0x7ffa1be36e18>\n",
      "The num is  8\n",
      "<function current_thread at 0x7ffa1be36e18><function current_thread at 0x7ffa1be36e18><function current_thread at 0x7ffa1be36e18>\n",
      "The num is  6\n",
      "\n",
      "\n",
      "The num is  5\n",
      "The num is  3\n"
     ]
    }
   ],
   "source": [
    "import threading\n",
    "import time\n",
    " \n",
    "def worker(num):\n",
    "    \"\"\"\n",
    "    thread worker function\n",
    "    :return:\n",
    "    \"\"\"\n",
    "    time.sleep(1)\n",
    "    \n",
    "    print(threading.current_thread)\n",
    "    print(\"The num is  %d\" % num)\n",
    "    return\n",
    " \n",
    "def test_tread_work():\n",
    "    for i in range(10):\n",
    "        t = threading.Thread(target=worker,args=(i,),name= \"t.%d\" % i)\n",
    "        t.start()\n",
    "        print(f\" thead name:{t.getName()}\")\n",
    "test_tread_work()"
   ]
  },
  {
   "cell_type": "code",
   "execution_count": 2,
   "metadata": {},
   "outputs": [],
   "source": []
  },
  {
   "cell_type": "code",
   "execution_count": null,
   "metadata": {},
   "outputs": [],
   "source": []
  },
  {
   "cell_type": "code",
   "execution_count": null,
   "metadata": {},
   "outputs": [],
   "source": []
  }
 ],
 "metadata": {
  "kernelspec": {
   "display_name": "Python 3",
   "language": "python",
   "name": "python3"
  },
  "language_info": {
   "codemirror_mode": {
    "name": "ipython",
    "version": 3
   },
   "file_extension": ".py",
   "mimetype": "text/x-python",
   "name": "python",
   "nbconvert_exporter": "python",
   "pygments_lexer": "ipython3",
   "version": "3.6.8"
  }
 },
 "nbformat": 4,
 "nbformat_minor": 4
}
